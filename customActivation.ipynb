{
  "nbformat": 4,
  "nbformat_minor": 0,
  "metadata": {
    "colab": {
      "name": "customActivation.ipynb",
      "provenance": [],
      "collapsed_sections": [],
      "include_colab_link": true
    },
    "kernelspec": {
      "name": "python3",
      "display_name": "Python 3"
    }
  },
  "cells": [
    {
      "cell_type": "markdown",
      "metadata": {
        "id": "view-in-github",
        "colab_type": "text"
      },
      "source": [
        "<a href=\"https://colab.research.google.com/github/joinerda/HPCExamples/blob/master/customActivation.ipynb\" target=\"_parent\"><img src=\"https://colab.research.google.com/assets/colab-badge.svg\" alt=\"Open In Colab\"/></a>"
      ]
    },
    {
      "cell_type": "code",
      "metadata": {
        "id": "jnX-aN8a9S0b",
        "colab_type": "code",
        "outputId": "9bbd80ff-c6af-40c7-96df-279b24fee3a7",
        "colab": {
          "base_uri": "https://localhost:8080/",
          "height": 34
        }
      },
      "source": [
        "from keras.models import Sequential\n",
        "from keras.layers import Dense\n",
        "from keras import backend as K\n",
        "import numpy as np\n",
        "import matplotlib.pyplot as plt\n",
        "\n",
        "ntrain = 100\n",
        "xtrain = np.linspace(0,10,ntrain)\n",
        "ytrain = np.sin(1.2*xtrain-0.3)+ \\\n",
        "  0.5*np.sin(3.7*xtrain+1)+ \\\n",
        "  0.2*np.sin(6.7*xtrain+1)+ \\\n",
        "  0.3*(np.random.rand(ntrain)-0.5)\n",
        "\n",
        "def custom_activation(x):\n",
        "    return (K.sin(x))\n",
        "\n",
        "customDepth = 20\n",
        "\n",
        "model = Sequential()\n",
        "customLayer = Dense(customDepth ,input_dim=1, activation=custom_activation)\n",
        "model.add(customLayer)\n",
        "model.add(Dense(1 ,activation=\"linear\"))\n",
        "\n",
        "frequencies = []\n",
        "biases = []\n",
        "maxFreq = ntrain/(np.max(xtrain)-np.min(xtrain))\n",
        "for i in range(0,customDepth):\n",
        "  frequencies.append(i*maxFreq/customDepth)\n",
        "  biases.append(0.0)\n",
        "\n",
        "customWeights = [np.array([frequencies]),np.array(biases)]\n",
        "customLayer.set_weights(customWeights)\n",
        "\n",
        "model.compile(optimizer = 'adam',loss='mse')\n",
        "model.fit(xtrain,ytrain,epochs=1000,verbose=0)\n",
        "\n",
        "\n"
      ],
      "execution_count": 56,
      "outputs": [
        {
          "output_type": "execute_result",
          "data": {
            "text/plain": [
              "<keras.callbacks.History at 0x7fda1f224e10>"
            ]
          },
          "metadata": {
            "tags": []
          },
          "execution_count": 56
        }
      ]
    },
    {
      "cell_type": "code",
      "metadata": {
        "id": "aQiOLu55-J2m",
        "colab_type": "code",
        "outputId": "f6c1f1c9-4cfa-424d-ba7f-dcb7e1bbc678",
        "colab": {
          "base_uri": "https://localhost:8080/",
          "height": 265
        }
      },
      "source": [
        "xmodel = np.linspace(-3,13,1000)\n",
        "ymodel = model.predict(xmodel)\n",
        "plt.plot(xmodel,ymodel)\n",
        "plt.plot(xtrain,ytrain,'ro')\n",
        "plt.show()"
      ],
      "execution_count": 57,
      "outputs": [
        {
          "output_type": "display_data",
          "data": {
            "image/png": "[encoded data removed]",
            "text/plain": [
              "<Figure size 432x288 with 1 Axes>"
            ]
          },
          "metadata": {
            "tags": []
          }
        }
      ]
    },
    {
      "cell_type": "code",
      "metadata": {
        "id": "gCkfTB2z_yV2",
        "colab_type": "code",
        "colab": {
          "base_uri": "https://localhost:8080/",
          "height": 193
        },
        "outputId": "e27e996b-4619-447f-e428-a329800f1320"
      },
      "source": [
        "model.layers[0].get_weights()\n"
      ],
      "execution_count": 58,
      "outputs": [
        {
          "output_type": "execute_result",
          "data": {
            "text/plain": [
              "[array([[0.02918489, 0.37407714, 1.1201452 , 1.2464967 , 1.8883977 ,\n",
              "         2.5079112 , 3.0863645 , 3.7549272 , 3.9755156 , 4.5309086 ,\n",
              "         5.03739   , 5.357252  , 6.166953  , 6.510211  , 6.8682904 ,\n",
              "         7.350358  , 8.054099  , 8.482211  , 8.930054  , 9.593426  ]],\n",
              "       dtype=float32),\n",
              " array([ 0.05626441, -0.12363521, -0.01274324, -0.3639255 , -0.2015044 ,\n",
              "         0.10248336,  0.06762099,  0.7671768 , -0.3143537 , -0.00763978,\n",
              "         0.24185593, -0.1804774 ,  0.08864275, -0.30107507,  0.01005289,\n",
              "         0.0304549 ,  0.06054378,  0.16089498, -0.08588282,  0.06559478],\n",
              "       dtype=float32)]"
            ]
          },
          "metadata": {
            "tags": []
          },
          "execution_count": 58
        }
      ]
    },
    {
      "cell_type": "code",
      "metadata": {
        "id": "sbS6TAOEXSTW",
        "colab_type": "code",
        "colab": {
          "base_uri": "https://localhost:8080/",
          "height": 369
        },
        "outputId": "af6e2cda-d418-43b0-bef5-0621fb6cd53c"
      },
      "source": [
        "model.layers[1].get_weights()\n"
      ],
      "execution_count": 59,
      "outputs": [
        {
          "output_type": "execute_result",
          "data": {
            "text/plain": [
              "[array([[-0.23809123],\n",
              "        [ 0.15231061],\n",
              "        [ 0.6819767 ],\n",
              "        [ 0.32107145],\n",
              "        [-0.05635592],\n",
              "        [-0.04178827],\n",
              "        [-0.0392646 ],\n",
              "        [ 0.57334375],\n",
              "        [-0.11002931],\n",
              "        [ 0.00872474],\n",
              "        [-0.00486468],\n",
              "        [-0.01960948],\n",
              "        [-0.03516287],\n",
              "        [-0.05256173],\n",
              "        [ 0.16294284],\n",
              "        [ 0.04725996],\n",
              "        [-0.01475311],\n",
              "        [-0.01919657],\n",
              "        [ 0.01151877],\n",
              "        [ 0.01222333]], dtype=float32), array([-0.0536803], dtype=float32)]"
            ]
          },
          "metadata": {
            "tags": []
          },
          "execution_count": 59
        }
      ]
    },
    {
      "cell_type": "code",
      "metadata": {
        "id": "ITtAg5N2YHPE",
        "colab_type": "code",
        "colab": {}
      },
      "source": [
        ""
      ],
      "execution_count": 0,
      "outputs": []
    },
    {
      "cell_type": "code",
      "metadata": {
        "id": "W8_oYwetfeoT",
        "colab_type": "code",
        "colab": {}
      },
      "source": [
        ""
      ],
      "execution_count": 0,
      "outputs": []
    },
    {
      "cell_type": "code",
      "metadata": {
        "id": "-awS46lXhpe8",
        "colab_type": "code",
        "colab": {}
      },
      "source": [
        ""
      ],
      "execution_count": 0,
      "outputs": []
    }
  ]
}